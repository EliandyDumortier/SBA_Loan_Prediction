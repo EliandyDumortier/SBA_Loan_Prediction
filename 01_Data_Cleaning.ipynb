{
 "cells": [
  {
   "cell_type": "markdown",
   "metadata": {},
   "source": [
    "# <span style='color:Gray'> <span style='font-family:Calibri'> Loan Approval Classification  : Data cleaning \n",
    "  </span> \n",
    "\n",
    "---\n",
    "<div style=\"position: relative; height: 50px;\">\n",
    " <img src=\"https://datascientest.com/wp-content/uploads/2021/05/illu_data_cleaning_blog_2-07.png\" alt=\"Description\" style=\"position: absolute; bottom: 0; right: 0; width: 100px; height: auto;\">\n",
    "\n",
    "\n",
    "</div>\n",
    "\n",
    "<div>\n",
    "\n",
    "## <span style='color: Violet'> <span style='font-family:Calibri'> Overview\n",
    "</div>\n",
    "\n",
    "- <span style='color: Gray'> <span style='font-family:Georgia'>Case study presentation </span>\n",
    "- <span style='color: Gray'> <span style='font-family:Georgia'>Uploading the data</span>\n",
    "- <span style='color: Gray'> <span style='font-family:Georgia'>Cleaaning and evaluating  the data</span>\n",
    "\n",
    "\n",
    "\n",
    " "
   ]
  }
 ],
 "metadata": {
  "language_info": {
   "name": "python"
  }
 },
 "nbformat": 4,
 "nbformat_minor": 2
}
